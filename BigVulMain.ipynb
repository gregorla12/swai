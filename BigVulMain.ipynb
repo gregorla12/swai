{
 "cells": [
  {
   "metadata": {
    "ExecuteTime": {
     "end_time": "2024-05-30T13:35:35.511509Z",
     "start_time": "2024-05-30T13:35:35.484567Z"
    }
   },
   "cell_type": "code",
   "source": [
    "import json\n",
    "import pandas as pd\n",
    "import torch\n",
    "from transformers import RobertaTokenizer, RobertaModel\n",
    "from sklearn.ensemble import RandomForestClassifier\n",
    "from sklearn.model_selection import train_test_split\n",
    "import random\n",
    "import os\n",
    "from sklearn.model_selection import KFold\n",
    "from sklearn.model_selection import cross_val_score\n",
    "from numpy import mean\n",
    "from numpy import absolute\n",
    "from numpy import sqrt"
   ],
   "id": "43e2d321027b93b9",
   "outputs": [],
   "execution_count": 22
  },
  {
   "metadata": {},
   "cell_type": "markdown",
   "source": "# preprocessing functions for both datasets",
   "id": "f302acd4dc12b51b"
  },
  {
   "metadata": {},
   "cell_type": "markdown",
   "source": "This function calculates the features. ",
   "id": "a01da298378a8938"
  },
  {
   "metadata": {
    "ExecuteTime": {
     "end_time": "2024-05-30T13:19:29.490153Z",
     "start_time": "2024-05-30T13:19:26.114103Z"
    }
   },
   "cell_type": "code",
   "source": [
    "feature_length=15\n",
    "device = torch.device(\"cuda\" if torch.cuda.is_available() else \"cpu\")\n",
    "tokenizer = RobertaTokenizer.from_pretrained(\"./model\")\n",
    "model = RobertaModel.from_pretrained(\"./model\")\n",
    "model.to(device)\n",
    "def calculateFeatures(line, previousLines):\n",
    "    code_tokens = tokenizer.tokenize(line)[:feature_length]\n",
    "    source_tokens = [tokenizer.cls_token]\n",
    "    for pLine in previousLines:\n",
    "        source_tokens+=tokenizer.tokenize(pLine)[:feature_length]+[tokenizer.sep_token]\n",
    "    source_tokens+=code_tokens + [tokenizer.sep_token]\n",
    "    source_ids = tokenizer.convert_tokens_to_ids(source_tokens)\n",
    "    context_embeddings=model(torch.tensor(source_ids)[None,:])[0]\n",
    "    return context_embeddings.sum(dim=1)[0].detach().numpy()"
   ],
   "id": "d2b83d822d6bf94b",
   "outputs": [],
   "execution_count": 2
  },
  {
   "metadata": {},
   "cell_type": "markdown",
   "source": "This takes a function with metadata as it is extracted from either the big vul dataset or the ILm vul dataset (the columns code and flaw_line_no are used) and outputs it as a dataframe with the columns 'originalIndex', 'line', 'vulnerable'. Empty lines and brackets only lines are removed. ",
   "id": "6cf2f49503ab23c9"
  },
  {
   "metadata": {
    "ExecuteTime": {
     "end_time": "2024-05-30T13:19:29.531603Z",
     "start_time": "2024-05-30T13:19:29.495845Z"
    }
   },
   "cell_type": "code",
   "source": [
    "def functionToDF(data):\n",
    "    return pd.DataFrame.from_records([(ind,line.strip(),line in data['flaw_line_no']) for ind, line in enumerate(data['code'].split('\\n')) if line.strip() not in ['','{','}','};'] ], columns=['originalIndex', 'line', 'vulnerable'])"
   ],
   "id": "bd7c5b72d5521db0",
   "outputs": [],
   "execution_count": 3
  },
  {
   "metadata": {},
   "cell_type": "markdown",
   "source": "This function prepares the original dataset with entire methods stored in one line into a dataframe with individual lines in of code per line. Additionally, it is possible to define the size of the context used as the number of previous lines. These are stored in a list in reverse order. ",
   "id": "570f896e0b599a12"
  },
  {
   "metadata": {
    "ExecuteTime": {
     "end_time": "2024-05-30T13:19:29.584271Z",
     "start_time": "2024-05-30T13:19:29.541143Z"
    }
   },
   "cell_type": "code",
   "source": [
    "previousLines=2\n",
    "def dataSetToDataFrame(originalDataset):\n",
    "    result=pd.DataFrame()\n",
    "    for index,data in originalDataset.iterrows():\n",
    "        newLine=functionToDF(data)\n",
    "        for i in range(1,previousLines+1):\n",
    "            newLine['prevousLine'+str(i)] = newLine['line'].shift(periods=i)\n",
    "        newLine['prevous']=newLine[['prevousLine'+str(i) for i in range(1,previousLines+1)]].apply(lambda row: list(row.values.astype(str)), axis=1)\n",
    "        newLine['features']=newLine.apply(lambda row:calculateFeatures(row['line'],row['prevous']),axis=1)\n",
    "        result = pd.concat([result,newLine.drop(columns=['prevousLine'+str(i) for i in range(1,previousLines+1)]) ])\n",
    "    return result\n"
   ],
   "id": "db7a883535361b7f",
   "outputs": [],
   "execution_count": 4
  },
  {
   "metadata": {},
   "cell_type": "markdown",
   "source": "# Big-Vul dataset",
   "id": "30310573f28d1728"
  },
  {
   "metadata": {
    "ExecuteTime": {
     "end_time": "2024-05-30T13:19:36.223232Z",
     "start_time": "2024-05-30T13:19:29.591144Z"
    }
   },
   "cell_type": "code",
   "source": [
    "df_bigVul=json.load(open(\"Big-Vul-dataset/data.json\"))\n",
    "df_bigVul=random.sample(df_bigVul, 10)#reduce dataset size, for testing only!\n",
    "df_bigVul=pd.DataFrame(df_bigVul)\n",
    "df_bigVul.drop(columns=['vul','bigvul_id'])#remove columns that are not needed"
   ],
   "id": "f2fed9ff31be54a1",
   "outputs": [
    {
     "data": {
      "text/plain": [
       "                                                code flaw_line_no\n",
       "0  GF_Err dref_Read(GF_Box *s, GF_BitStream *bs)\\...           []\n",
       "1  void WebPageProxy::didCompleteRubberBandForMai...           []\n",
       "2  void WebContentsImpl::CopyToFindPboard() {\\n#i...           []\n",
       "3  static bool ndp_msg_check_opts(struct ndp_msg ...           []\n",
       "4  error::Error GLES2DecoderImpl::HandlePathParam...           []\n",
       "5   void BluetoothChooserDesktop::SetAdapterPrese...           []\n",
       "6  PHP_FUNCTION(pg_result_error)\\n{\\n  zval *resu...           []\n",
       "7  static void bin_elf_versioninfo(RCore *r, int ...           []\n",
       "8  xsltComputeAllKeys(xsltTransformContextPtr ctx...           []\n",
       "9  static void __exit exit_elf_binfmt(void)\\n{\\n ...           []"
      ],
      "text/html": [
       "<div>\n",
       "<style scoped>\n",
       "    .dataframe tbody tr th:only-of-type {\n",
       "        vertical-align: middle;\n",
       "    }\n",
       "\n",
       "    .dataframe tbody tr th {\n",
       "        vertical-align: top;\n",
       "    }\n",
       "\n",
       "    .dataframe thead th {\n",
       "        text-align: right;\n",
       "    }\n",
       "</style>\n",
       "<table border=\"1\" class=\"dataframe\">\n",
       "  <thead>\n",
       "    <tr style=\"text-align: right;\">\n",
       "      <th></th>\n",
       "      <th>code</th>\n",
       "      <th>flaw_line_no</th>\n",
       "    </tr>\n",
       "  </thead>\n",
       "  <tbody>\n",
       "    <tr>\n",
       "      <th>0</th>\n",
       "      <td>GF_Err dref_Read(GF_Box *s, GF_BitStream *bs)\\...</td>\n",
       "      <td>[]</td>\n",
       "    </tr>\n",
       "    <tr>\n",
       "      <th>1</th>\n",
       "      <td>void WebPageProxy::didCompleteRubberBandForMai...</td>\n",
       "      <td>[]</td>\n",
       "    </tr>\n",
       "    <tr>\n",
       "      <th>2</th>\n",
       "      <td>void WebContentsImpl::CopyToFindPboard() {\\n#i...</td>\n",
       "      <td>[]</td>\n",
       "    </tr>\n",
       "    <tr>\n",
       "      <th>3</th>\n",
       "      <td>static bool ndp_msg_check_opts(struct ndp_msg ...</td>\n",
       "      <td>[]</td>\n",
       "    </tr>\n",
       "    <tr>\n",
       "      <th>4</th>\n",
       "      <td>error::Error GLES2DecoderImpl::HandlePathParam...</td>\n",
       "      <td>[]</td>\n",
       "    </tr>\n",
       "    <tr>\n",
       "      <th>5</th>\n",
       "      <td>void BluetoothChooserDesktop::SetAdapterPrese...</td>\n",
       "      <td>[]</td>\n",
       "    </tr>\n",
       "    <tr>\n",
       "      <th>6</th>\n",
       "      <td>PHP_FUNCTION(pg_result_error)\\n{\\n  zval *resu...</td>\n",
       "      <td>[]</td>\n",
       "    </tr>\n",
       "    <tr>\n",
       "      <th>7</th>\n",
       "      <td>static void bin_elf_versioninfo(RCore *r, int ...</td>\n",
       "      <td>[]</td>\n",
       "    </tr>\n",
       "    <tr>\n",
       "      <th>8</th>\n",
       "      <td>xsltComputeAllKeys(xsltTransformContextPtr ctx...</td>\n",
       "      <td>[]</td>\n",
       "    </tr>\n",
       "    <tr>\n",
       "      <th>9</th>\n",
       "      <td>static void __exit exit_elf_binfmt(void)\\n{\\n ...</td>\n",
       "      <td>[]</td>\n",
       "    </tr>\n",
       "  </tbody>\n",
       "</table>\n",
       "</div>"
      ]
     },
     "execution_count": 5,
     "metadata": {},
     "output_type": "execute_result"
    }
   ],
   "execution_count": 5
  },
  {
   "metadata": {},
   "cell_type": "markdown",
   "source": "# Ilm-vul dataset",
   "id": "75675a5c23ea8e3c"
  },
  {
   "metadata": {},
   "cell_type": "markdown",
   "source": "This code adds the code of the original method. The dataset has additional files with partial transformations. Maybe, they are more useful for us, feel free to modify this.",
   "id": "3660d5644cbd1ded"
  },
  {
   "metadata": {
    "ExecuteTime": {
     "end_time": "2024-05-30T13:19:37.102034Z",
     "start_time": "2024-05-30T13:19:36.229857Z"
    }
   },
   "cell_type": "code",
   "source": [
    "df_Ilm=pd.DataFrame(os.listdir(\"llm-vul-main\\llm-vul-main\\VJBench-trans\"),columns=['project'])\n",
    "df_Ilm['code']=df_Ilm.apply(lambda x: open(os.path.join(\"llm-vul-main\\llm-vul-main\\VJBench-trans\",x['project']+\"\\\\\"+x['project']+\"_original_method.java\"),'r').read(), axis=1)"
   ],
   "id": "42d5bbf55dcf3fe7",
   "outputs": [],
   "execution_count": 6
  },
  {
   "metadata": {},
   "cell_type": "markdown",
   "source": "This adds the location of the bug in the original method. It is a list with 2 elements (start and end line); usually the same.",
   "id": "c28a55c804a0552f"
  },
  {
   "metadata": {
    "ExecuteTime": {
     "end_time": "2024-05-30T13:19:37.974062Z",
     "start_time": "2024-05-30T13:19:37.114311Z"
    }
   },
   "cell_type": "code",
   "source": "df_Ilm['location_original_method']=df_Ilm.apply(lambda x:json.load(open(os.path.join(\"llm-vul-main\\llm-vul-main\\VJBench-trans\",x['project']+\"\\\\\"+\"buggyline_location.json\")))['original'],axis=1)",
   "id": "dbe91c80babba8d5",
   "outputs": [],
   "execution_count": 7
  },
  {
   "metadata": {
    "ExecuteTime": {
     "end_time": "2024-05-30T13:19:38.076090Z",
     "start_time": "2024-05-30T13:19:37.982968Z"
    }
   },
   "cell_type": "code",
   "source": [
    "df_Ilm['flaw_line_no']=df_Ilm.apply(lambda row:list(range(row['location_original_method'][0][0],row['location_original_method'][0][1]+1)),axis=1)  #convert the beginning and end location to a list containing all vulnerable lines. Assumption: there is only one vulnerable location.\n",
    "df_Ilm=df_Ilm.drop(columns=['location_original_method','project' ])#delete the column with start and end of the vulnerable location as this is no longer needed as well as the project column\n",
    "df_Ilm=df_Ilm.sample( 10)#reduce dataset size, for testing only!\n",
    "df_Ilm"
   ],
   "id": "4404260f2403ba59",
   "outputs": [
    {
     "data": {
      "text/plain": [
       "                                                 code  \\\n",
       "19  @Override\\npublic void prepareForDecryption(PD...   \n",
       "28  protected Object doGetDocument(Exchange exchan...   \n",
       "3   public static void checkDirectoryTraversal(@No...   \n",
       "49  @Override\\npublic ByteBuffer encode(final Stri...   \n",
       "15  @SuppressWarnings({ \"unchecked\", \"rawtypes\" })...   \n",
       "4   @Exported(inline=true)\\npublic Map<String,Obje...   \n",
       "40  void read(Tokeniser t, CharacterReader r) {\\n ...   \n",
       "22  @Override\\npublic String encodeForJSString(Str...   \n",
       "21  public static String getContextPath(HttpServle...   \n",
       "23  @Override\\n@Nonnull\\npublic String getValidHre...   \n",
       "\n",
       "                                         flaw_line_no  \n",
       "19                                               [64]  \n",
       "28  [16, 17, 18, 19, 20, 21, 22, 23, 24, 25, 26, 2...  \n",
       "3                                                 [4]  \n",
       "49                                               [27]  \n",
       "15                                               [49]  \n",
       "4                                              [4, 5]  \n",
       "40                                               [27]  \n",
       "22                                                [3]  \n",
       "21                                   [6, 7, 8, 9, 10]  \n",
       "23  [5, 6, 7, 8, 9, 10, 11, 12, 13, 14, 15, 16, 17...  "
      ],
      "text/html": [
       "<div>\n",
       "<style scoped>\n",
       "    .dataframe tbody tr th:only-of-type {\n",
       "        vertical-align: middle;\n",
       "    }\n",
       "\n",
       "    .dataframe tbody tr th {\n",
       "        vertical-align: top;\n",
       "    }\n",
       "\n",
       "    .dataframe thead th {\n",
       "        text-align: right;\n",
       "    }\n",
       "</style>\n",
       "<table border=\"1\" class=\"dataframe\">\n",
       "  <thead>\n",
       "    <tr style=\"text-align: right;\">\n",
       "      <th></th>\n",
       "      <th>code</th>\n",
       "      <th>flaw_line_no</th>\n",
       "    </tr>\n",
       "  </thead>\n",
       "  <tbody>\n",
       "    <tr>\n",
       "      <th>19</th>\n",
       "      <td>@Override\\npublic void prepareForDecryption(PD...</td>\n",
       "      <td>[64]</td>\n",
       "    </tr>\n",
       "    <tr>\n",
       "      <th>28</th>\n",
       "      <td>protected Object doGetDocument(Exchange exchan...</td>\n",
       "      <td>[16, 17, 18, 19, 20, 21, 22, 23, 24, 25, 26, 2...</td>\n",
       "    </tr>\n",
       "    <tr>\n",
       "      <th>3</th>\n",
       "      <td>public static void checkDirectoryTraversal(@No...</td>\n",
       "      <td>[4]</td>\n",
       "    </tr>\n",
       "    <tr>\n",
       "      <th>49</th>\n",
       "      <td>@Override\\npublic ByteBuffer encode(final Stri...</td>\n",
       "      <td>[27]</td>\n",
       "    </tr>\n",
       "    <tr>\n",
       "      <th>15</th>\n",
       "      <td>@SuppressWarnings({ \"unchecked\", \"rawtypes\" })...</td>\n",
       "      <td>[49]</td>\n",
       "    </tr>\n",
       "    <tr>\n",
       "      <th>4</th>\n",
       "      <td>@Exported(inline=true)\\npublic Map&lt;String,Obje...</td>\n",
       "      <td>[4, 5]</td>\n",
       "    </tr>\n",
       "    <tr>\n",
       "      <th>40</th>\n",
       "      <td>void read(Tokeniser t, CharacterReader r) {\\n ...</td>\n",
       "      <td>[27]</td>\n",
       "    </tr>\n",
       "    <tr>\n",
       "      <th>22</th>\n",
       "      <td>@Override\\npublic String encodeForJSString(Str...</td>\n",
       "      <td>[3]</td>\n",
       "    </tr>\n",
       "    <tr>\n",
       "      <th>21</th>\n",
       "      <td>public static String getContextPath(HttpServle...</td>\n",
       "      <td>[6, 7, 8, 9, 10]</td>\n",
       "    </tr>\n",
       "    <tr>\n",
       "      <th>23</th>\n",
       "      <td>@Override\\n@Nonnull\\npublic String getValidHre...</td>\n",
       "      <td>[5, 6, 7, 8, 9, 10, 11, 12, 13, 14, 15, 16, 17...</td>\n",
       "    </tr>\n",
       "  </tbody>\n",
       "</table>\n",
       "</div>"
      ]
     },
     "execution_count": 8,
     "metadata": {},
     "output_type": "execute_result"
    }
   ],
   "execution_count": 8
  },
  {
   "metadata": {},
   "cell_type": "markdown",
   "source": "# data preprocessing for both datasets",
   "id": "e9dcd140ec203983"
  },
  {
   "metadata": {},
   "cell_type": "markdown",
   "source": "combine both datasets into one as they should have the same structure now. This dataset now contains rows with the entire functions and the line location of the vulnerable line(s). Please note that the data format for flaw_line_no is slightly different.",
   "id": "6ecb5d0a674b4137"
  },
  {
   "metadata": {
    "ExecuteTime": {
     "end_time": "2024-05-30T13:19:38.106896Z",
     "start_time": "2024-05-30T13:19:38.085669Z"
    }
   },
   "cell_type": "code",
   "source": "df_complete=pd.concat([df_bigVul,df_Ilm])",
   "id": "81f2c304f11dd89c",
   "outputs": [],
   "execution_count": 9
  },
  {
   "metadata": {},
   "cell_type": "markdown",
   "source": "Split the dataset into training and testing based on functions, so that all lines from a function are either entirely test or training",
   "id": "f725747da5b41e82"
  },
  {
   "metadata": {
    "ExecuteTime": {
     "end_time": "2024-05-30T13:19:38.146681Z",
     "start_time": "2024-05-30T13:19:38.116271Z"
    }
   },
   "cell_type": "code",
   "source": "train, test = train_test_split(df_complete, test_size=0.2, random_state=42)",
   "id": "4feb4fab993116ee",
   "outputs": [],
   "execution_count": 10
  },
  {
   "metadata": {
    "ExecuteTime": {
     "end_time": "2024-05-30T13:21:55.680257Z",
     "start_time": "2024-05-30T13:19:38.155064Z"
    }
   },
   "cell_type": "code",
   "source": [
    "train=dataSetToDataFrame(train)\n",
    "test=dataSetToDataFrame(test)"
   ],
   "id": "225b403a6962a351",
   "outputs": [],
   "execution_count": 11
  },
  {
   "metadata": {},
   "cell_type": "markdown",
   "source": "# classification",
   "id": "8c0a734589a6fe9"
  },
  {
   "metadata": {
    "ExecuteTime": {
     "end_time": "2024-05-30T13:21:55.884860Z",
     "start_time": "2024-05-30T13:21:55.685439Z"
    }
   },
   "cell_type": "code",
   "source": [
    "rf = RandomForestClassifier(max_depth=50, n_estimators=15, max_features=5, random_state=42)\n",
    "rf.fit(list(train['features']),list(train['vulnerable']))\n",
    "rf.score(list(test['features']),list(test['vulnerable'])) "
   ],
   "id": "522ccf4b236e4acf",
   "outputs": [
    {
     "data": {
      "text/plain": [
       "1.0"
      ]
     },
     "execution_count": 12,
     "metadata": {},
     "output_type": "execute_result"
    }
   ],
   "execution_count": 12
  },
  {
   "metadata": {},
   "cell_type": "markdown",
   "source": "# k-fold cross validation",
   "id": "190c3965d3194c53"
  },
  {
   "metadata": {
    "ExecuteTime": {
     "end_time": "2024-05-30T13:32:32.899695Z",
     "start_time": "2024-05-30T13:30:34.363976Z"
    }
   },
   "cell_type": "code",
   "source": "train_test=dataSetToDataFrame(df_complete)",
   "id": "46c23fc95007f605",
   "outputs": [],
   "execution_count": 17
  },
  {
   "metadata": {
    "ExecuteTime": {
     "end_time": "2024-05-30T13:33:44.024530Z",
     "start_time": "2024-05-30T13:33:27.136921Z"
    }
   },
   "cell_type": "code",
   "source": [
    "cv = KFold(n_splits=5, random_state=1, shuffle=True)\n",
    "rf = RandomForestClassifier(max_depth=50, n_estimators=15, max_features=5, random_state=42)\n",
    "scores = cross_val_score(rf, train_test['features'], train_test['vulnerable'], scoring='neg_mean_squared_error',\n",
    "                         cv=cv, n_jobs=-1)"
   ],
   "id": "808b74424642bce2",
   "outputs": [],
   "execution_count": 19
  },
  {
   "metadata": {
    "ExecuteTime": {
     "end_time": "2024-05-30T13:35:42.978363Z",
     "start_time": "2024-05-30T13:35:42.963429Z"
    }
   },
   "cell_type": "code",
   "source": "sqrt(mean(absolute(scores)))",
   "id": "9a6c198304e1ccd8",
   "outputs": [
    {
     "data": {
      "text/plain": [
       "nan"
      ]
     },
     "execution_count": 23,
     "metadata": {},
     "output_type": "execute_result"
    }
   ],
   "execution_count": 23
  },
  {
   "metadata": {
    "ExecuteTime": {
     "end_time": "2024-05-30T13:35:44.543201Z",
     "start_time": "2024-05-30T13:35:44.533374Z"
    }
   },
   "cell_type": "code",
   "source": "",
   "id": "21c8930c349e9480",
   "outputs": [],
   "execution_count": 23
  },
  {
   "metadata": {},
   "cell_type": "code",
   "outputs": [],
   "execution_count": null,
   "source": "",
   "id": "649a3a975dc799d4"
  }
 ],
 "metadata": {
  "kernelspec": {
   "display_name": "Python 3",
   "language": "python",
   "name": "python3"
  },
  "language_info": {
   "codemirror_mode": {
    "name": "ipython",
    "version": 2
   },
   "file_extension": ".py",
   "mimetype": "text/x-python",
   "name": "python",
   "nbconvert_exporter": "python",
   "pygments_lexer": "ipython2",
   "version": "2.7.6"
  }
 },
 "nbformat": 4,
 "nbformat_minor": 5
}
