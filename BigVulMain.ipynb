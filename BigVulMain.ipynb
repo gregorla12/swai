{
 "cells": [
  {
   "metadata": {
    "ExecuteTime": {
     "end_time": "2024-05-26T13:40:41.271301Z",
     "start_time": "2024-05-26T13:40:38.593236Z"
    }
   },
   "cell_type": "code",
   "source": [
    "import json\n",
    "import pandas as pd\n",
    "import torch\n",
    "from transformers import RobertaTokenizer, RobertaModel\n",
    "from sklearn.ensemble import RandomForestClassifier\n",
    "from sklearn.model_selection import train_test_split\n",
    "import random"
   ],
   "id": "43e2d321027b93b9",
   "outputs": [],
   "execution_count": 1
  },
  {
   "metadata": {},
   "cell_type": "markdown",
   "source": "This takes a function with metadata as it is stored in the big vul dataset (the columns code and flaw_line_no are used) and outputs it as a dataframe with the columns 'originalIndex', 'line', 'vulnerable'. Empty lines and brackets only lines are removed. ",
   "id": "6cf2f49503ab23c9"
  },
  {
   "metadata": {
    "ExecuteTime": {
     "end_time": "2024-05-26T13:40:41.280909Z",
     "start_time": "2024-05-26T13:40:41.271301Z"
    }
   },
   "cell_type": "code",
   "source": [
    "def functionToDF(data):\n",
    "    return pd.DataFrame.from_records([(ind,line.strip(),line in data['flaw_line_no']) for ind, line in enumerate(data['code'].split('\\n')) if line.strip() not in ['','{','}'] ], columns=['originalIndex', 'line', 'vulnerable'])"
   ],
   "id": "bd7c5b72d5521db0",
   "outputs": [],
   "execution_count": 2
  },
  {
   "metadata": {},
   "cell_type": "markdown",
   "source": "This function calculates the features. ",
   "id": "a01da298378a8938"
  },
  {
   "metadata": {
    "ExecuteTime": {
     "end_time": "2024-05-26T13:40:41.726525Z",
     "start_time": "2024-05-26T13:40:41.283438Z"
    }
   },
   "cell_type": "code",
   "source": [
    "feature_length=15\n",
    "device = torch.device(\"cuda\" if torch.cuda.is_available() else \"cpu\")\n",
    "tokenizer = RobertaTokenizer.from_pretrained(\"./model\")\n",
    "model = RobertaModel.from_pretrained(\"./model\")\n",
    "model.to(device)\n",
    "def calculateFeatures(line, previousLines):\n",
    "    code_tokens = tokenizer.tokenize(line)[:feature_length]\n",
    "    source_tokens = [tokenizer.cls_token]\n",
    "    for pLine in previousLines:\n",
    "        source_tokens+=tokenizer.tokenize(pLine)[:feature_length]+[tokenizer.sep_token]\n",
    "    source_tokens+=code_tokens + [tokenizer.sep_token]\n",
    "    source_ids = tokenizer.convert_tokens_to_ids(source_tokens)\n",
    "    context_embeddings=model(torch.tensor(source_ids)[None,:])[0]\n",
    "    return context_embeddings.sum(dim=1)[0].detach().numpy()"
   ],
   "id": "d2b83d822d6bf94b",
   "outputs": [],
   "execution_count": 3
  },
  {
   "metadata": {},
   "cell_type": "markdown",
   "source": "Split the dataset into training and testing based on functions, so that all lines from a function are either entirely test or training",
   "id": "f725747da5b41e82"
  },
  {
   "metadata": {
    "ExecuteTime": {
     "end_time": "2024-05-26T13:40:43.445203Z",
     "start_time": "2024-05-26T13:40:41.726525Z"
    }
   },
   "cell_type": "code",
   "source": [
    "originalDataset=json.load(open(\"Big-Vul-dataset/data.json\"))\n",
    "originalDataset=random.sample(originalDataset, 10)#reduce dataset size, for testing only!\n",
    "train, test = train_test_split(originalDataset, test_size=0.2, random_state=42)"
   ],
   "id": "f2fed9ff31be54a1",
   "outputs": [],
   "execution_count": 4
  },
  {
   "metadata": {
    "ExecuteTime": {
     "end_time": "2024-05-26T13:40:43.461248Z",
     "start_time": "2024-05-26T13:40:43.445203Z"
    }
   },
   "cell_type": "code",
   "source": [
    "previousLines=2\n",
    "def dataSetToDataFrame(originalDataset):\n",
    "    result=pd.DataFrame()\n",
    "    for data in originalDataset:\n",
    "        newLine=functionToDF(data)\n",
    "        for i in range(1,previousLines+1):\n",
    "            newLine['prevousLine'+str(i)] = newLine['line'].shift(periods=i)\n",
    "        newLine['prevous']=newLine[['prevousLine'+str(i) for i in range(1,previousLines+1)]].apply(lambda row: list(row.values.astype(str)), axis=1)\n",
    "        newLine['features']=newLine.apply(lambda row:calculateFeatures(row['line'],row['prevous']),axis=1)\n",
    "        result = pd.concat([result,newLine.drop(columns=['prevousLine'+str(i) for i in range(1,previousLines+1)]) ])\n",
    "    return result\n"
   ],
   "id": "db7a883535361b7f",
   "outputs": [],
   "execution_count": 5
  },
  {
   "metadata": {
    "ExecuteTime": {
     "end_time": "2024-05-26T13:41:14.011852Z",
     "start_time": "2024-05-26T13:40:43.461248Z"
    }
   },
   "cell_type": "code",
   "source": [
    "train_pd=dataSetToDataFrame(train)\n",
    "test_pd=dataSetToDataFrame(test)"
   ],
   "id": "48f5c600503e4521",
   "outputs": [],
   "execution_count": 6
  },
  {
   "metadata": {
    "ExecuteTime": {
     "end_time": "2024-05-26T13:41:14.064016Z",
     "start_time": "2024-05-26T13:41:14.013339Z"
    }
   },
   "cell_type": "code",
   "source": [
    "rf = RandomForestClassifier(max_depth=50, n_estimators=15, max_features=5, random_state=42)\n",
    "rf.fit(list(train_pd['features']),list(train_pd['vulnerable']))\n",
    "rf.score(list(test_pd['features']),list(test_pd['vulnerable'])) "
   ],
   "id": "522ccf4b236e4acf",
   "outputs": [
    {
     "data": {
      "text/plain": [
       "1.0"
      ]
     },
     "execution_count": 7,
     "metadata": {},
     "output_type": "execute_result"
    }
   ],
   "execution_count": 7
  },
  {
   "metadata": {
    "ExecuteTime": {
     "end_time": "2024-05-26T13:41:14.079894Z",
     "start_time": "2024-05-26T13:41:14.064016Z"
    }
   },
   "cell_type": "code",
   "source": "",
   "id": "b50f1c62a8bc95ea",
   "outputs": [],
   "execution_count": 7
  }
 ],
 "metadata": {
  "kernelspec": {
   "display_name": "Python 3",
   "language": "python",
   "name": "python3"
  },
  "language_info": {
   "codemirror_mode": {
    "name": "ipython",
    "version": 2
   },
   "file_extension": ".py",
   "mimetype": "text/x-python",
   "name": "python",
   "nbconvert_exporter": "python",
   "pygments_lexer": "ipython2",
   "version": "2.7.6"
  }
 },
 "nbformat": 4,
 "nbformat_minor": 5
}
