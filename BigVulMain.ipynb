{
 "cells": [
  {
   "metadata": {
    "ExecuteTime": {
     "end_time": "2024-05-27T18:38:26.088249Z",
     "start_time": "2024-05-27T18:38:22.656826Z"
    }
   },
   "cell_type": "code",
   "source": [
    "import json\n",
    "import pandas as pd\n",
    "import torch\n",
    "from transformers import RobertaTokenizer, RobertaModel\n",
    "from sklearn.ensemble import RandomForestClassifier\n",
    "from sklearn.model_selection import train_test_split\n",
    "import random\n",
    "import os"
   ],
   "id": "43e2d321027b93b9",
   "outputs": [],
   "execution_count": 1
  },
  {
   "metadata": {},
   "cell_type": "markdown",
   "source": "# preprocessing functions for both datasets",
   "id": "f302acd4dc12b51b"
  },
  {
   "metadata": {},
   "cell_type": "markdown",
   "source": "This function calculates the features. ",
   "id": "a01da298378a8938"
  },
  {
   "metadata": {
    "ExecuteTime": {
     "end_time": "2024-05-27T18:38:26.590551Z",
     "start_time": "2024-05-27T18:38:26.088249Z"
    }
   },
   "cell_type": "code",
   "source": [
    "feature_length=15\n",
    "device = torch.device(\"cuda\" if torch.cuda.is_available() else \"cpu\")\n",
    "tokenizer = RobertaTokenizer.from_pretrained(\"./model\")\n",
    "model = RobertaModel.from_pretrained(\"./model\")\n",
    "model.to(device)\n",
    "def calculateFeatures(line, previousLines):\n",
    "    code_tokens = tokenizer.tokenize(line)[:feature_length]\n",
    "    source_tokens = [tokenizer.cls_token]\n",
    "    for pLine in previousLines:\n",
    "        source_tokens+=tokenizer.tokenize(pLine)[:feature_length]+[tokenizer.sep_token]\n",
    "    source_tokens+=code_tokens + [tokenizer.sep_token]\n",
    "    source_ids = tokenizer.convert_tokens_to_ids(source_tokens)\n",
    "    context_embeddings=model(torch.tensor(source_ids)[None,:])[0]\n",
    "    return context_embeddings.sum(dim=1)[0].detach().numpy()"
   ],
   "id": "d2b83d822d6bf94b",
   "outputs": [],
   "execution_count": 2
  },
  {
   "metadata": {},
   "cell_type": "markdown",
   "source": "This takes a function with metadata as it is extracted from either the big vul dataset or the ILm vul dataset (the columns code and flaw_line_no are used) and outputs it as a dataframe with the columns 'originalIndex', 'line', 'vulnerable'. Empty lines and brackets only lines are removed. ",
   "id": "6cf2f49503ab23c9"
  },
  {
   "metadata": {
    "ExecuteTime": {
     "end_time": "2024-05-27T18:38:26.606852Z",
     "start_time": "2024-05-27T18:38:26.590551Z"
    }
   },
   "cell_type": "code",
   "source": [
    "def functionToDF(data):\n",
    "    return pd.DataFrame.from_records([(ind,line.strip(),line in data['flaw_line_no']) for ind, line in enumerate(data['code'].split('\\n')) if line.strip() not in ['','{','}','};'] ], columns=['originalIndex', 'line', 'vulnerable'])"
   ],
   "id": "bd7c5b72d5521db0",
   "outputs": [],
   "execution_count": 3
  },
  {
   "metadata": {},
   "cell_type": "markdown",
   "source": "This function prepares the original dataset with entire methods stored in one line into a dataframe with individual lines in of code per line. Additionally, it is possible to define the size of the context used as the number of previous lines. These are stored in a list in reverse order. ",
   "id": "570f896e0b599a12"
  },
  {
   "metadata": {
    "ExecuteTime": {
     "end_time": "2024-05-27T18:38:26.630593Z",
     "start_time": "2024-05-27T18:38:26.608888Z"
    }
   },
   "cell_type": "code",
   "source": [
    "previousLines=2\n",
    "def dataSetToDataFrame(originalDataset):\n",
    "    result=pd.DataFrame()\n",
    "    for index,data in originalDataset.iterrows():\n",
    "        newLine=functionToDF(data)\n",
    "        for i in range(1,previousLines+1):\n",
    "            newLine['prevousLine'+str(i)] = newLine['line'].shift(periods=i)\n",
    "        newLine['prevous']=newLine[['prevousLine'+str(i) for i in range(1,previousLines+1)]].apply(lambda row: list(row.values.astype(str)), axis=1)\n",
    "        newLine['features']=newLine.apply(lambda row:calculateFeatures(row['line'],row['prevous']),axis=1)\n",
    "        result = pd.concat([result,newLine.drop(columns=['prevousLine'+str(i) for i in range(1,previousLines+1)]) ])\n",
    "    return result\n"
   ],
   "id": "db7a883535361b7f",
   "outputs": [],
   "execution_count": 4
  },
  {
   "metadata": {},
   "cell_type": "markdown",
   "source": "# Big-Vul dataset",
   "id": "30310573f28d1728"
  },
  {
   "metadata": {
    "ExecuteTime": {
     "end_time": "2024-05-27T18:38:29.000936Z",
     "start_time": "2024-05-27T18:38:26.630593Z"
    }
   },
   "cell_type": "code",
   "source": [
    "df_bigVul=json.load(open(\"Big-Vul-dataset/data.json\"))\n",
    "df_bigVul=random.sample(df_bigVul, 10)#reduce dataset size, for testing only!\n",
    "df_bigVul=pd.DataFrame(df_bigVul)\n",
    "df_bigVul.drop(columns=['vul','bigvul_id'])#remove columns that are not needed"
   ],
   "id": "f2fed9ff31be54a1",
   "outputs": [
    {
     "data": {
      "text/plain": [
       "                                                code flaw_line_no\n",
       "0  exsltCryptoCryptoApiRc4Encrypt (xmlXPathParser...           []\n",
       "1  static int __init lz4_mod_init(void)\\n{\\n  ret...           []\n",
       "2  void PrintRenderFrameHelper::PrintPageInternal...           []\n",
       "3  static int do_recv_XMotionEvent(rpc_message_t ...           []\n",
       "4  static void free_vpid(struct vcpu_vmx *vmx)\\n{...           []\n",
       "5    scoped_refptr<VertexAttribManager> CreateVer...           []\n",
       "6  static void codeApplyAffinity(Parse *pParse, i...           []\n",
       "7  static void index_entry_adjust_namemask(\\n    ...           []\n",
       "8  MagickExport Image *ColorMatrixImage(const Ima...           []\n",
       "9  int SSLClientSocketOpenSSL::Connect(const Comp...           []"
      ],
      "text/html": [
       "<div>\n",
       "<style scoped>\n",
       "    .dataframe tbody tr th:only-of-type {\n",
       "        vertical-align: middle;\n",
       "    }\n",
       "\n",
       "    .dataframe tbody tr th {\n",
       "        vertical-align: top;\n",
       "    }\n",
       "\n",
       "    .dataframe thead th {\n",
       "        text-align: right;\n",
       "    }\n",
       "</style>\n",
       "<table border=\"1\" class=\"dataframe\">\n",
       "  <thead>\n",
       "    <tr style=\"text-align: right;\">\n",
       "      <th></th>\n",
       "      <th>code</th>\n",
       "      <th>flaw_line_no</th>\n",
       "    </tr>\n",
       "  </thead>\n",
       "  <tbody>\n",
       "    <tr>\n",
       "      <th>0</th>\n",
       "      <td>exsltCryptoCryptoApiRc4Encrypt (xmlXPathParser...</td>\n",
       "      <td>[]</td>\n",
       "    </tr>\n",
       "    <tr>\n",
       "      <th>1</th>\n",
       "      <td>static int __init lz4_mod_init(void)\\n{\\n  ret...</td>\n",
       "      <td>[]</td>\n",
       "    </tr>\n",
       "    <tr>\n",
       "      <th>2</th>\n",
       "      <td>void PrintRenderFrameHelper::PrintPageInternal...</td>\n",
       "      <td>[]</td>\n",
       "    </tr>\n",
       "    <tr>\n",
       "      <th>3</th>\n",
       "      <td>static int do_recv_XMotionEvent(rpc_message_t ...</td>\n",
       "      <td>[]</td>\n",
       "    </tr>\n",
       "    <tr>\n",
       "      <th>4</th>\n",
       "      <td>static void free_vpid(struct vcpu_vmx *vmx)\\n{...</td>\n",
       "      <td>[]</td>\n",
       "    </tr>\n",
       "    <tr>\n",
       "      <th>5</th>\n",
       "      <td>scoped_refptr&lt;VertexAttribManager&gt; CreateVer...</td>\n",
       "      <td>[]</td>\n",
       "    </tr>\n",
       "    <tr>\n",
       "      <th>6</th>\n",
       "      <td>static void codeApplyAffinity(Parse *pParse, i...</td>\n",
       "      <td>[]</td>\n",
       "    </tr>\n",
       "    <tr>\n",
       "      <th>7</th>\n",
       "      <td>static void index_entry_adjust_namemask(\\n    ...</td>\n",
       "      <td>[]</td>\n",
       "    </tr>\n",
       "    <tr>\n",
       "      <th>8</th>\n",
       "      <td>MagickExport Image *ColorMatrixImage(const Ima...</td>\n",
       "      <td>[]</td>\n",
       "    </tr>\n",
       "    <tr>\n",
       "      <th>9</th>\n",
       "      <td>int SSLClientSocketOpenSSL::Connect(const Comp...</td>\n",
       "      <td>[]</td>\n",
       "    </tr>\n",
       "  </tbody>\n",
       "</table>\n",
       "</div>"
      ]
     },
     "execution_count": 5,
     "metadata": {},
     "output_type": "execute_result"
    }
   ],
   "execution_count": 5
  },
  {
   "metadata": {},
   "cell_type": "markdown",
   "source": "# Ilm-vul dataset",
   "id": "75675a5c23ea8e3c"
  },
  {
   "metadata": {},
   "cell_type": "markdown",
   "source": "This code adds the code of the original method. The dataset has additional files with partial transformations. Maybe, they are more useful for us, feel free to modify this.",
   "id": "3660d5644cbd1ded"
  },
  {
   "metadata": {
    "ExecuteTime": {
     "end_time": "2024-05-27T18:38:29.071597Z",
     "start_time": "2024-05-27T18:38:29.000936Z"
    }
   },
   "cell_type": "code",
   "source": [
    "df_Ilm=pd.DataFrame(os.listdir(\"llm-vul-main\\llm-vul-main\\VJBench-trans\"),columns=['project'])\n",
    "df_Ilm['code']=df_Ilm.apply(lambda x: open(os.path.join(\"llm-vul-main\\llm-vul-main\\VJBench-trans\",x['project']+\"\\\\\"+x['project']+\"_original_method.java\"),'r').read(), axis=1)"
   ],
   "id": "42d5bbf55dcf3fe7",
   "outputs": [],
   "execution_count": 6
  },
  {
   "metadata": {},
   "cell_type": "markdown",
   "source": "This adds the location of the bug in the original method. It is a list with 2 elements (start and end line); usually the same.",
   "id": "c28a55c804a0552f"
  },
  {
   "metadata": {
    "ExecuteTime": {
     "end_time": "2024-05-27T18:38:29.134790Z",
     "start_time": "2024-05-27T18:38:29.071597Z"
    }
   },
   "cell_type": "code",
   "source": "df_Ilm['location_original_method']=df_Ilm.apply(lambda x:json.load(open(os.path.join(\"llm-vul-main\\llm-vul-main\\VJBench-trans\",x['project']+\"\\\\\"+\"buggyline_location.json\")))['original'],axis=1)",
   "id": "dbe91c80babba8d5",
   "outputs": [],
   "execution_count": 7
  },
  {
   "metadata": {
    "ExecuteTime": {
     "end_time": "2024-05-27T18:38:29.164742Z",
     "start_time": "2024-05-27T18:38:29.136805Z"
    }
   },
   "cell_type": "code",
   "source": [
    "df_Ilm['flaw_line_no']=df_Ilm.apply(lambda row:list(range(row['location_original_method'][0][0],row['location_original_method'][0][1]+1)),axis=1)  #convert the beginning and end location to a list containing all vulnerable lines. Assumption: there is only one vulnerable location.\n",
    "df_Ilm=df_Ilm.drop(columns=['location_original_method','project' ])#delete the column with start and end of the vulnerable location as this is no longer needed as well as the project column\n",
    "df_Ilm=df_Ilm.sample( 10)#reduce dataset size, for testing only!\n",
    "df_Ilm"
   ],
   "id": "4404260f2403ba59",
   "outputs": [
    {
     "data": {
      "text/plain": [
       "                                                 code flaw_line_no\n",
       "36  private void writeSession(SessionInformations ...         [31]\n",
       "34  protected XmlFactory(ObjectCodec oc, int xpFea...         [12]\n",
       "25  @Converter\\npublic SAXSource toSAXSourceFromSt...         [24]\n",
       "46  private int readStored(final byte[] buffer, fi...         [16]\n",
       "38  public Calendar ceil(Calendar cal) {\\n    Cale...         [21]\n",
       "15  @SuppressWarnings({ \"unchecked\", \"rawtypes\" })...         [49]\n",
       "11  protected void internalGetMessageById(AsyncRes...         [11]\n",
       "4   @Exported(inline=true)\\npublic Map<String,Obje...       [4, 5]\n",
       "31  public static void writeEntry(ZipFile zipFile,...          [5]\n",
       "40  void read(Tokeniser t, CharacterReader r) {\\n ...         [27]"
      ],
      "text/html": [
       "<div>\n",
       "<style scoped>\n",
       "    .dataframe tbody tr th:only-of-type {\n",
       "        vertical-align: middle;\n",
       "    }\n",
       "\n",
       "    .dataframe tbody tr th {\n",
       "        vertical-align: top;\n",
       "    }\n",
       "\n",
       "    .dataframe thead th {\n",
       "        text-align: right;\n",
       "    }\n",
       "</style>\n",
       "<table border=\"1\" class=\"dataframe\">\n",
       "  <thead>\n",
       "    <tr style=\"text-align: right;\">\n",
       "      <th></th>\n",
       "      <th>code</th>\n",
       "      <th>flaw_line_no</th>\n",
       "    </tr>\n",
       "  </thead>\n",
       "  <tbody>\n",
       "    <tr>\n",
       "      <th>36</th>\n",
       "      <td>private void writeSession(SessionInformations ...</td>\n",
       "      <td>[31]</td>\n",
       "    </tr>\n",
       "    <tr>\n",
       "      <th>34</th>\n",
       "      <td>protected XmlFactory(ObjectCodec oc, int xpFea...</td>\n",
       "      <td>[12]</td>\n",
       "    </tr>\n",
       "    <tr>\n",
       "      <th>25</th>\n",
       "      <td>@Converter\\npublic SAXSource toSAXSourceFromSt...</td>\n",
       "      <td>[24]</td>\n",
       "    </tr>\n",
       "    <tr>\n",
       "      <th>46</th>\n",
       "      <td>private int readStored(final byte[] buffer, fi...</td>\n",
       "      <td>[16]</td>\n",
       "    </tr>\n",
       "    <tr>\n",
       "      <th>38</th>\n",
       "      <td>public Calendar ceil(Calendar cal) {\\n    Cale...</td>\n",
       "      <td>[21]</td>\n",
       "    </tr>\n",
       "    <tr>\n",
       "      <th>15</th>\n",
       "      <td>@SuppressWarnings({ \"unchecked\", \"rawtypes\" })...</td>\n",
       "      <td>[49]</td>\n",
       "    </tr>\n",
       "    <tr>\n",
       "      <th>11</th>\n",
       "      <td>protected void internalGetMessageById(AsyncRes...</td>\n",
       "      <td>[11]</td>\n",
       "    </tr>\n",
       "    <tr>\n",
       "      <th>4</th>\n",
       "      <td>@Exported(inline=true)\\npublic Map&lt;String,Obje...</td>\n",
       "      <td>[4, 5]</td>\n",
       "    </tr>\n",
       "    <tr>\n",
       "      <th>31</th>\n",
       "      <td>public static void writeEntry(ZipFile zipFile,...</td>\n",
       "      <td>[5]</td>\n",
       "    </tr>\n",
       "    <tr>\n",
       "      <th>40</th>\n",
       "      <td>void read(Tokeniser t, CharacterReader r) {\\n ...</td>\n",
       "      <td>[27]</td>\n",
       "    </tr>\n",
       "  </tbody>\n",
       "</table>\n",
       "</div>"
      ]
     },
     "execution_count": 8,
     "metadata": {},
     "output_type": "execute_result"
    }
   ],
   "execution_count": 8
  },
  {
   "metadata": {},
   "cell_type": "markdown",
   "source": "# data preprocessing for both datasets",
   "id": "e9dcd140ec203983"
  },
  {
   "metadata": {},
   "cell_type": "markdown",
   "source": "combine both datasets into one as they should have the same structure now. This dataset now contains rows with the entire functions and the line location of the vulnerable line(s). Please note that the data format for flaw_line_no is slightly different.",
   "id": "6ecb5d0a674b4137"
  },
  {
   "metadata": {
    "ExecuteTime": {
     "end_time": "2024-05-27T18:38:29.180889Z",
     "start_time": "2024-05-27T18:38:29.166753Z"
    }
   },
   "cell_type": "code",
   "source": "df_complete=pd.concat([df_bigVul,df_Ilm])",
   "id": "81f2c304f11dd89c",
   "outputs": [],
   "execution_count": 9
  },
  {
   "metadata": {},
   "cell_type": "markdown",
   "source": "Split the dataset into training and testing based on functions, so that all lines from a function are either entirely test or training",
   "id": "f725747da5b41e82"
  },
  {
   "metadata": {
    "ExecuteTime": {
     "end_time": "2024-05-27T18:38:29.197108Z",
     "start_time": "2024-05-27T18:38:29.180889Z"
    }
   },
   "cell_type": "code",
   "source": "train, test = train_test_split(df_complete, test_size=0.2, random_state=42)",
   "id": "4feb4fab993116ee",
   "outputs": [],
   "execution_count": 10
  },
  {
   "metadata": {
    "ExecuteTime": {
     "end_time": "2024-05-27T18:39:22.732745Z",
     "start_time": "2024-05-27T18:38:29.197108Z"
    }
   },
   "cell_type": "code",
   "source": [
    "train=dataSetToDataFrame(train)\n",
    "test=dataSetToDataFrame(test)"
   ],
   "id": "225b403a6962a351",
   "outputs": [],
   "execution_count": 11
  },
  {
   "metadata": {},
   "cell_type": "markdown",
   "source": "# classification",
   "id": "8c0a734589a6fe9"
  },
  {
   "metadata": {
    "ExecuteTime": {
     "end_time": "2024-05-27T18:39:22.796679Z",
     "start_time": "2024-05-27T18:39:22.732745Z"
    }
   },
   "cell_type": "code",
   "source": [
    "rf = RandomForestClassifier(max_depth=50, n_estimators=15, max_features=5, random_state=42)\n",
    "rf.fit(list(train['features']),list(train['vulnerable']))\n",
    "rf.score(list(test['features']),list(test['vulnerable'])) "
   ],
   "id": "522ccf4b236e4acf",
   "outputs": [
    {
     "data": {
      "text/plain": [
       "1.0"
      ]
     },
     "execution_count": 12,
     "metadata": {},
     "output_type": "execute_result"
    }
   ],
   "execution_count": 12
  },
  {
   "metadata": {
    "ExecuteTime": {
     "end_time": "2024-05-27T18:39:22.812495Z",
     "start_time": "2024-05-27T18:39:22.796679Z"
    }
   },
   "cell_type": "code",
   "source": "",
   "id": "b50f1c62a8bc95ea",
   "outputs": [],
   "execution_count": 12
  }
 ],
 "metadata": {
  "kernelspec": {
   "display_name": "Python 3",
   "language": "python",
   "name": "python3"
  },
  "language_info": {
   "codemirror_mode": {
    "name": "ipython",
    "version": 2
   },
   "file_extension": ".py",
   "mimetype": "text/x-python",
   "name": "python",
   "nbconvert_exporter": "python",
   "pygments_lexer": "ipython2",
   "version": "2.7.6"
  }
 },
 "nbformat": 4,
 "nbformat_minor": 5
}
